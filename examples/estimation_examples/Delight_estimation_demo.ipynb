{
 "cells": [
  {
   "cell_type": "markdown",
   "metadata": {},
   "source": [
    "# RAIL Estimation Tutorial For Delight\n",
    "\n",
    "**Authors:** Sylvie Dagoret-Campagne\n",
    "\n",
    "**Last run successfully:** October 31, 2024"
   ]
  },
  {
   "cell_type": "markdown",
   "metadata": {},
   "source": [
    "This is a notebook demonstrating some of the `estimation` features of the LSST-DESC `RAIL`-iverse packages.  \n",
    "\n",
    "The `rail.estimation` subpackage contains infrastructure to run multiple production-level photo-z codes.  There is a minimimal superclass that sets up some file paths and variable names. Each specific photo-z code resides in a subclass in `rail.estimation.algos` with algorithm-specific setup variables.  More extensive documentation is available on Read the Docs here:\n",
    "https://rail-hub.readthedocs.io/en/latest/\n",
    "\n"
   ]
  },
  {
   "cell_type": "markdown",
   "metadata": {},
   "source": [
    "### Define usefull environnement varible"
   ]
  },
  {
   "cell_type": "code",
   "execution_count": 1,
   "metadata": {},
   "outputs": [
    {
     "name": "stdout",
     "output_type": "stream",
     "text": [
      "env: PZDATALOC=\"/Volumes/Backup2020/MacOSX/GitHub/LSST/2024/desc/rail_dspsXfors2_pz/src/rail/dsps_fors2_pz/data\"\n"
     ]
    }
   ],
   "source": [
    "%env PZDATALOC=\"/Volumes/Backup2020/MacOSX/GitHub/LSST/2024/desc/rail_dspsXfors2_pz/src/rail/dsps_fors2_pz/data\""
   ]
  },
  {
   "cell_type": "markdown",
   "metadata": {},
   "source": [
    "### Check imports\n",
    "\n",
    "- main branch of https://github.com/LSSTDESC/Delight\n",
    "- forked, from https://github.com/sylvielsstfr/rail_delight, branch `Make-rail_delight-compatible-with-updated-cythonized-Delight`\n",
    "- forked, from https://github.com/sylvielsstfr/rail, branch `demo-notebook-for-Delight` "
   ]
  },
  {
   "cell_type": "code",
   "execution_count": 2,
   "metadata": {},
   "outputs": [],
   "source": [
    "import delight"
   ]
  },
  {
   "cell_type": "code",
   "execution_count": 3,
   "metadata": {},
   "outputs": [
    {
     "data": {
      "text/plain": [
       "['__all__',\n",
       " '__builtins__',\n",
       " '__cached__',\n",
       " '__doc__',\n",
       " '__file__',\n",
       " '__loader__',\n",
       " '__name__',\n",
       " '__package__',\n",
       " '__path__',\n",
       " '__spec__',\n",
       " 'hmc',\n",
       " 'io',\n",
       " 'photoz_gp',\n",
       " 'photoz_kernels',\n",
       " 'photoz_kernels_cy',\n",
       " 'posteriors',\n",
       " 'priors',\n",
       " 'sedmixture',\n",
       " 'utils',\n",
       " 'utils_cy']"
      ]
     },
     "execution_count": 3,
     "metadata": {},
     "output_type": "execute_result"
    }
   ],
   "source": [
    "dir(delight)"
   ]
  },
  {
   "cell_type": "code",
   "execution_count": 4,
   "metadata": {},
   "outputs": [],
   "source": [
    "from rail.estimation.algos import delight_hybrid"
   ]
  },
  {
   "cell_type": "code",
   "execution_count": 5,
   "metadata": {},
   "outputs": [
    {
     "data": {
      "text/plain": [
       "['CatEstimator',\n",
       " 'CatInformer',\n",
       " 'DelightEstimator',\n",
       " 'DelightInformer',\n",
       " 'Param',\n",
       " 'RAILDIR',\n",
       " 'TableHandle',\n",
       " '__builtins__',\n",
       " '__cached__',\n",
       " '__doc__',\n",
       " '__file__',\n",
       " '__loader__',\n",
       " '__name__',\n",
       " '__package__',\n",
       " '__spec__',\n",
       " 'errno',\n",
       " 'logger',\n",
       " 'logging',\n",
       " 'np',\n",
       " 'os',\n",
       " 'qp',\n",
       " 'sys']"
      ]
     },
     "execution_count": 5,
     "metadata": {},
     "output_type": "execute_result"
    }
   ],
   "source": [
    "dir(delight_hybrid)"
   ]
  },
  {
   "cell_type": "markdown",
   "metadata": {},
   "source": [
    "### Other imports"
   ]
  },
  {
   "cell_type": "code",
   "execution_count": 6,
   "metadata": {},
   "outputs": [],
   "source": [
    "import os\n",
    "import matplotlib.pyplot as plt\n",
    "import numpy as np\n",
    "%matplotlib inline "
   ]
  },
  {
   "cell_type": "code",
   "execution_count": 7,
   "metadata": {},
   "outputs": [],
   "source": [
    "import rail\n",
    "import qp\n",
    "from rail.core.data import TableHandle\n",
    "from rail.core.stage import RailStage"
   ]
  },
  {
   "cell_type": "markdown",
   "metadata": {},
   "source": [
    "We'll start by setting up the `DataStore`.  RAIL uses [`ceci`](https://github.com/LSSTDESC/ceci) as a back-end for pipelines of RAIL stages run at the command line. The `DataStore` is a workaround to enable `ceci` to interact with data files in an interactive notebook environment.   Some files will appear in the `DataStore` with the prefix \"inprogress_\" as they are stored in memory for use in the notebook, but the data will also be written out to file with the prefix \"output_\".  See the Golden Spike end-to-end demo notebook for more details on the `DataStore`."
   ]
  },
  {
   "cell_type": "code",
   "execution_count": 8,
   "metadata": {},
   "outputs": [],
   "source": [
    "DS = RailStage.data_store\n",
    "DS.__class__.allow_overwrite = True"
   ]
  },
  {
   "cell_type": "markdown",
   "metadata": {},
   "source": [
    "## Importing all available estimators\n",
    "\n",
    "There is some handy functionality in `rail.stages` to import all available stages that are installed in your environment.  `RailStage` knows about all of the sub-types of stages.  By looping through the values in  the `RailStage.pipeline_stages` dictionary, we can isolate those that are sub-classes of `rail.estimation.estimator.CatEstimator`, which operate on catalog-like inputs.  Let's run this `import_and_attach_all()` command, and then print out the subclasses that are now available for use (though in this demo we only take advantage of two specific estimators):"
   ]
  },
  {
   "cell_type": "code",
   "execution_count": 9,
   "metadata": {},
   "outputs": [
    {
     "name": "stdout",
     "output_type": "stream",
     "text": [
      "Imported rail.astro_tools\n",
      "Imported rail.bpz\n",
      "Imported rail.cmnn\n",
      "Imported rail.core\n",
      "Imported rail.delight\n",
      "Imported rail.dsps\n",
      "Imported rail.dsps_fors2_pz\n",
      "Imported rail.flexzboost\n",
      "Imported rail.fsps\n",
      "Imported rail.gpz\n",
      "Imported rail.hub\n",
      "Imported rail.interfaces\n",
      "Imported rail.pzflow\n",
      "Imported rail.sklearn\n",
      "Imported rail.som\n",
      "Imported rail.stages\n",
      "Attached 12 base classes and 83 fully formed stages to rail.stages\n",
      "<class 'rail.estimation.estimator.CatEstimator'>\n",
      "<class 'rail.estimation.algos.delight_hybrid.DelightEstimator'>\n",
      "<class 'rail.estimation.algos.random_gauss.RandomGaussEstimator'>\n",
      "<class 'rail.estimation.algos.train_z.TrainZEstimator'>\n",
      "<class 'rail.estimation.algos.bpz_lite.BPZliteEstimator'>\n",
      "<class 'rail.estimation.algos.cmnn.CMNNEstimator'>\n",
      "<class 'rail.estimation.algos.flexzboost.FlexZBoostEstimator'>\n",
      "<class 'rail.estimation.algos.gpz.GPzEstimator'>\n",
      "<class 'rail.estimation.algos.pzflow_nf.PZFlowEstimator'>\n",
      "<class 'rail.estimation.algos.k_nearneigh.KNearNeighEstimator'>\n",
      "<class 'rail.estimation.algos.sklearn_neurnet.SklNeurNetEstimator'>\n",
      "<class 'rail.estimation.algos.nz_dir.NZDirSummarizer'>\n"
     ]
    }
   ],
   "source": [
    "import rail.stages\n",
    "rail.stages.import_and_attach_all()\n",
    "\n",
    "for val in RailStage.pipeline_stages.values():\n",
    "    if issubclass(val[0], rail.estimation.estimator.CatEstimator):\n",
    "        print(val[0])"
   ]
  },
  {
   "cell_type": "markdown",
   "metadata": {},
   "source": [
    "You should see a list of the available subclasses corresponding to specific photo-z algorithms, as printed out above.  These currently include:\n",
    "\n",
    "- `bpz_lite` is a template-based code that outputs the posterior estimated given a specific template set and Bayesian prior. See [Benitez (2000)](http://stacks.iop.org/0004-637X/536/i=2/a=571) for more details.\n",
    "- `cmnn` is an implementation of the \"colour-matched nearest neighbour` estimator described in [Graham et al 2018](https://ui.adsabs.harvard.edu/abs/2018AJ....155....1G/abstract).  It returns a single Gaussian for each galaxy.\n",
    "- `delight_hybrid` (currently `delightPZ`) is a hybrid gaussian process/template-based code. See the [Leistedt & Hogg (2017)](https://doi.org/10.3847%2F1538-3881%2Faa91d5) for more details.\n",
    "- `flexzboost` is a fully functional photo-z algorithm, implementing the FlexZBoost conditional density estimate method from [Izbicki, Lee & Freeman (2017)](https://doi.org/10.1214/16-AOAS1013) that performed well in the LSST-DESC Photo-Z Data Challenge 1 paper ([Schmidt, Malz & Soo, et al. (2020)](https://academic.oup.com/mnras/article/499/2/1587/5905416)).  FlexZBoost and some specialized metrics for it are available in Python and R through [FlexCode](https://github.com/lee-group-cmu/FlexCode).\n",
    "- `gpz` is a Gaussian Process-based estimator. See [Almosallam et al 2016](https://ui.adsabs.harvard.edu/abs/2016MNRAS.462..726A/abstract) for details on the algorithm.  It currently returns a single Gaussian for each PDF.\n",
    "- `k_nearneigh` is a simple implementation of a weighted k-nearest neighbor photo-z code. It stores each PDF as a weighted sum of Gaussians based on the distance from neighbors in color-space.<br>\n",
    "- `pzflow_nf` uses the same normalizing flow code [pzflow](https://github.com/jfcrenshaw/pzflow), the same one that appears in `rail.creation`, to predict redshift PDFs.\n",
    "- `random_gauss` is a very simple class that does not actually predict a meaningful photo-z but can be useful for quick null tests when developing a pipeline. Instead it produces a randomly drawn Gaussian for each galaxy.\n",
    "- `sklearn_neurnet` is another toy model using `sklearn`'s neural network to predict a point estimate redshift from the training data, then assigns a sigma width based on the estimated redshift.\n",
    "- `trainz` is our \"pathological\" estimator. It makes a PDF from a histogram of the training data and assigns that PDF to every galaxy without considering its photometry.\n",
    "\n",
    "\n",
    "Each code should have two specific classes associated with it: one to `inform()` using a set of training data or explicit priors and one to `estimate()` the per-galaxy photo-z PDFs.  These should be imported from the `src/rail/estimation/algos/[name_of_code]` module using the above names. The naming pattern is `[NameOfCode]Estimator` for the estimating class, and `[NameOfCode]Informer` for the training/ingesting class, for example `FlexZBoostEstimator` and  `FlexZBoostInformer`.  \n",
    "\n",
    "For each of these two classes, we follow the pattern to first run a `make_stage()` method for the class in order to set up the `ceci` infrastructure and then invoke the `inform()` or `estimate()` method for the class in question.  We show examples of this below."
   ]
  },
  {
   "cell_type": "code",
   "execution_count": 10,
   "metadata": {},
   "outputs": [],
   "source": [
    "from rail.estimation.algos import delight_hybrid"
   ]
  },
  {
   "cell_type": "code",
   "execution_count": 11,
   "metadata": {},
   "outputs": [
    {
     "data": {
      "text/plain": [
       "['CatEstimator',\n",
       " 'CatInformer',\n",
       " 'DelightEstimator',\n",
       " 'DelightInformer',\n",
       " 'Param',\n",
       " 'RAILDIR',\n",
       " 'TableHandle',\n",
       " '__builtins__',\n",
       " '__cached__',\n",
       " '__doc__',\n",
       " '__file__',\n",
       " '__loader__',\n",
       " '__name__',\n",
       " '__package__',\n",
       " '__spec__',\n",
       " 'errno',\n",
       " 'logger',\n",
       " 'logging',\n",
       " 'np',\n",
       " 'os',\n",
       " 'qp',\n",
       " 'sys']"
      ]
     },
     "execution_count": 11,
     "metadata": {},
     "output_type": "execute_result"
    }
   ],
   "source": [
    "dir(delight_hybrid)"
   ]
  },
  {
   "cell_type": "code",
   "execution_count": 12,
   "metadata": {},
   "outputs": [
    {
     "data": {
      "text/plain": [
       "['__class__',\n",
       " '__delattr__',\n",
       " '__dict__',\n",
       " '__dir__',\n",
       " '__doc__',\n",
       " '__eq__',\n",
       " '__format__',\n",
       " '__ge__',\n",
       " '__getattribute__',\n",
       " '__getstate__',\n",
       " '__gt__',\n",
       " '__hash__',\n",
       " '__init__',\n",
       " '__init_subclass__',\n",
       " '__le__',\n",
       " '__lt__',\n",
       " '__module__',\n",
       " '__ne__',\n",
       " '__new__',\n",
       " '__reduce__',\n",
       " '__reduce_ex__',\n",
       " '__repr__',\n",
       " '__setattr__',\n",
       " '__sizeof__',\n",
       " '__str__',\n",
       " '__subclasshook__',\n",
       " '__weakref__',\n",
       " '_describe_configuration_text',\n",
       " '_finalize_tag',\n",
       " 'add_data',\n",
       " 'add_handle',\n",
       " 'allow_reload',\n",
       " 'already_finished',\n",
       " 'build',\n",
       " 'check_io',\n",
       " 'comm',\n",
       " 'config',\n",
       " 'config_options',\n",
       " 'connect_input',\n",
       " 'dask_parallel',\n",
       " 'data_ranges_by_rank',\n",
       " 'data_store',\n",
       " 'describe_configuration',\n",
       " 'doc',\n",
       " 'execute',\n",
       " 'finalize',\n",
       " 'find_inputs',\n",
       " 'find_outputs',\n",
       " 'generate_command',\n",
       " 'generate_cwl',\n",
       " 'get_aliased_tag',\n",
       " 'get_aliases',\n",
       " 'get_config_dict',\n",
       " 'get_data',\n",
       " 'get_handle',\n",
       " 'get_input',\n",
       " 'get_input_type',\n",
       " 'get_module',\n",
       " 'get_output',\n",
       " 'get_output_type',\n",
       " 'get_stage',\n",
       " 'incomplete_pipeline_stages',\n",
       " 'inform',\n",
       " 'input_iterator',\n",
       " 'input_tags',\n",
       " 'inputs',\n",
       " 'inputs_',\n",
       " 'instance_name',\n",
       " 'is_dask',\n",
       " 'is_mpi',\n",
       " 'is_parallel',\n",
       " 'iterate_fits',\n",
       " 'iterate_hdf',\n",
       " 'load_configs',\n",
       " 'main',\n",
       " 'make_and_connect',\n",
       " 'make_stage',\n",
       " 'map_tasks_by_rank',\n",
       " 'name',\n",
       " 'open_input',\n",
       " 'open_output',\n",
       " 'output_tags',\n",
       " 'outputs',\n",
       " 'outputs_',\n",
       " 'parallel',\n",
       " 'parse_command_line',\n",
       " 'pipeline_stages',\n",
       " 'print_io',\n",
       " 'rank',\n",
       " 'read_config',\n",
       " 'run',\n",
       " 'set_data',\n",
       " 'setup_mpi',\n",
       " 'should_skip',\n",
       " 'size',\n",
       " 'split_tasks_by_rank',\n",
       " 'start_dask',\n",
       " 'stop_dask',\n",
       " 'usage']"
      ]
     },
     "execution_count": 12,
     "metadata": {},
     "output_type": "execute_result"
    }
   ],
   "source": [
    "dir(delight_hybrid.DelightInformer)"
   ]
  },
  {
   "cell_type": "markdown",
   "metadata": {},
   "source": [
    "## The code-specific parameters\n",
    "Each photo-z algorithm has code-specific parameters necessary to initialize the code.  These values can be input on the command line, or passed in via a dictionary.<br>\n",
    "\n",
    "Let's start with a very simple demonstration using `k_nearneigh`, a RAIL wrapper around `sklearn`'s nearest neighbor (NN) method.  It calculates a normalized weight for the K nearest neighbors based on their distance and makes a PDF as a sum of K Gaussians, each at the redshift of the training galaxy with amplitude based on the distance weight, and a Gaussian width set by the user.  This is a toy model estimator, but it actually performs very well for representative data sets. There are configuration parameters for the names of columns, random seeds, etc... in `KNearNeighEstimator` with best-guess sensible defaults based on preliminary experimentation in DESC. See the [KNearNeigh code](https://github.com/LSSTDESC/RAIL/blob/eac-dev/rail/estimation/algos/k_nearneigh.py) for more details, but here is a minimal set to run:"
   ]
  },
  {
   "cell_type": "code",
   "execution_count": 13,
   "metadata": {},
   "outputs": [],
   "source": [
    "dlgt_dict = dict(zmin=0.0, zmax=3.0, nzbins=301, trainfrac=0.75,\n",
    "                sigma_grid_min=0.01, sigma_grid_max=0.07, ngrid_sigma=10,hdf5_groupname='photometry')"
   ]
  },
  {
   "cell_type": "markdown",
   "metadata": {},
   "source": [
    "Here, `trainfrac` sets the proportion of training data to use in training the algorithm, where the remaining fraction is used to validate both the width of the Gaussians used in constructing the PDF and the number of neighbors used in each PDF.  The CDE Loss is a metric computed on a grid of some width and number of neighbors, and the combination of width and number of neighbors with the lowest CDE loss is used.  `sigma_grid_min`, `sigma_grid_max`, and `ngrid_sigma` are used to specify the grid of sigma values to test, while `nneigh_min` and `nneigh_max` are the integer values between which we will check the loss.\n",
    "\n",
    "`zmin`, `zmax`, and `nzbins` are used to create a grid on which the CDE Loss is computed when minimizing the loss to find the best values for sigma and number of neighbors to use."
   ]
  },
  {
   "cell_type": "markdown",
   "metadata": {},
   "source": [
    "We will begin by training the algorithm by instantiating its `Informer` stage.\n",
    "\n",
    "If any essential parameters are missing from the parameter dictionary, they will be set to default values:"
   ]
  },
  {
   "cell_type": "code",
   "execution_count": 14,
   "metadata": {},
   "outputs": [],
   "source": [
    "from rail.estimation.algos.delight_hybrid import DelightInformer, DelightEstimator\n",
    "pz_train = DelightInformer.make_stage(name='inform_Delight', model='demo_delight.pkl', **dlgt_dict)"
   ]
  },
  {
   "cell_type": "markdown",
   "metadata": {},
   "source": [
    "Now, let's load our training data, which is stored in hdf5 format.  We'll load it into the `DataStore` so that the `ceci` stages are able to access it."
   ]
  },
  {
   "cell_type": "code",
   "execution_count": 15,
   "metadata": {},
   "outputs": [],
   "source": [
    "from rail.utils.path_utils import find_rail_file\n",
    "trainFile = find_rail_file('examples_data/testdata/test_dc2_training_9816.hdf5')\n",
    "testFile = find_rail_file('examples_data/testdata/test_dc2_validation_9816.hdf5')\n",
    "training_data = DS.read_file(\"training_data\", TableHandle, trainFile)\n",
    "test_data = DS.read_file(\"test_data\", TableHandle, testFile)"
   ]
  },
  {
   "cell_type": "markdown",
   "metadata": {},
   "source": [
    "We need to train the KDTree, which is done with the `inform()` method present in every `Informer` stage. The parameter `model` is the name that the trained model object that will be saved as, in a format specific to the estimation algorithm in question.  In this case the format is a pickle file called `demo_knn.pkl`. \n",
    "\n",
    "`KNearNeighInformer.inform` finds the best sigma and NNeigh and stores those along with the KDTree in the model."
   ]
  },
  {
   "cell_type": "code",
   "execution_count": 16,
   "metadata": {},
   "outputs": [
    {
     "name": "stdout",
     "output_type": "stream",
     "text": [
      "DC2LSST_u DC2LSST_g DC2LSST_r DC2LSST_i DC2LSST_z DC2LSST_y CPU times: user 1min 39s, sys: 1.08 s, total: 1min 40s\n",
      "Wall time: 1min 43s\n"
     ]
    }
   ],
   "source": [
    "%%time\n",
    "pz_train.inform(training_data)"
   ]
  },
  {
   "cell_type": "markdown",
   "metadata": {},
   "source": [
    "We can now set up the main photo-z `Estimator` stage and run our algorithm on the data to produce simple photo-z estimates.  Note that we are loading the trained model that we computed from the `Informer` stage:"
   ]
  },
  {
   "cell_type": "code",
   "execution_count": 19,
   "metadata": {},
   "outputs": [
    {
     "name": "stdout",
     "output_type": "stream",
     "text": [
      "Process 0 running estimator on chunk 0 - 10000\n",
      "\n",
      "\n",
      "\n",
      " Starting estimation...\n",
      "\n",
      "\n",
      "\n",
      "Process 0 estimating PZ PDF for rows 0 - 10,000\n",
      "0 0.18297123908996582 0.010532855987548828 0.015620946884155273\n",
      "100 0.15404081344604492 0.0065081119537353516 0.010738849639892578\n",
      "200 0.16020512580871582 0.006026029586791992 0.00805974006652832\n",
      "300 0.16328811645507812 0.00648188591003418 0.022724151611328125\n",
      "400 0.14587187767028809 0.005042314529418945 0.00558781623840332\n",
      "500 0.14836978912353516 0.004935264587402344 0.011224031448364258\n",
      "600 0.149824857711792 0.007876873016357422 0.005347251892089844\n",
      "700 0.1459188461303711 0.0046977996826171875 0.010361194610595703\n",
      "800 0.142333984375 0.004642009735107422 0.01376795768737793\n",
      "900 0.15506815910339355 0.0058917999267578125 0.00764012336730957\n",
      "1000 0.14693284034729004 0.005136966705322266 0.013916254043579102\n",
      "1100 0.14197015762329102 0.004743814468383789 0.01046299934387207\n",
      "1200 0.15212798118591309 0.006071805953979492 0.007692098617553711\n",
      "1300 0.1452488899230957 0.004966020584106445 0.010959148406982422\n",
      "1400 0.14606809616088867 0.005285978317260742 0.00836801528930664\n",
      "1500 0.15156888961791992 0.005174875259399414 0.005503177642822266\n",
      "1600 0.1461172103881836 0.004991054534912109 0.012041807174682617\n",
      "1700 0.1755390167236328 0.00483393669128418 0.012969255447387695\n",
      "1800 0.15163421630859375 0.005699872970581055 0.006565093994140625\n",
      "1900 0.1455838680267334 0.005500078201293945 0.007643938064575195\n",
      "2000 0.14751505851745605 0.00467681884765625 0.009874105453491211\n",
      "2100 0.14055991172790527 0.00443577766418457 0.012883186340332031\n",
      "2200 0.15366387367248535 0.004797220230102539 0.004756927490234375\n",
      "2300 0.1404728889465332 0.005143165588378906 0.009865760803222656\n",
      "2400 0.14934992790222168 0.00690007209777832 0.006151914596557617\n",
      "2500 0.1462862491607666 0.006754636764526367 0.00887608528137207\n",
      "2600 0.1409769058227539 0.004939079284667969 0.009059906005859375\n",
      "2700 0.15405726432800293 0.004907846450805664 0.010808944702148438\n",
      "2800 0.14796996116638184 0.006502866744995117 0.006063222885131836\n",
      "2900 0.14608001708984375 0.006734132766723633 0.007330894470214844\n",
      "3000 0.14407801628112793 0.005825996398925781 0.013273954391479492\n",
      "3100 0.17574691772460938 0.006547212600708008 0.004822731018066406\n",
      "3200 0.1681361198425293 0.006440877914428711 0.0059359073638916016\n",
      "3300 0.1809372901916504 0.007992744445800781 0.0062792301177978516\n",
      "3400 0.17042779922485352 0.006256103515625 0.0057260990142822266\n"
     ]
    },
    {
     "name": "stderr",
     "output_type": "stream",
     "text": [
      "/Users/dagoret/anaconda3/envs/py312_rail/lib/python3.12/site-packages/qp/interp_pdf.py:88: RuntimeWarning: invalid value encountered in divide\n",
      "  self._yvals = (self._yvals.T / self._ycumul[:, -1]).T\n",
      "/Users/dagoret/anaconda3/envs/py312_rail/lib/python3.12/site-packages/qp/interp_pdf.py:89: RuntimeWarning: invalid value encountered in divide\n",
      "  self._ycumul = (self._ycumul.T / self._ycumul[:, -1]).T\n"
     ]
    },
    {
     "name": "stdout",
     "output_type": "stream",
     "text": [
      "Inserting handle into data store.  output_inform_Delight: inprogress_output_inform_Delight.hdf5, inform_Delight\n",
      "Process 0 running estimator on chunk 10000 - 20000\n",
      "\n",
      "\n",
      "\n",
      " Starting estimation...\n",
      "\n",
      "\n",
      "\n",
      "Process 0 estimating PZ PDF for rows 10,000 - 20,000\n",
      "0 0.20946788787841797 0.011907100677490234 0.013671875\n",
      "100 0.1732616424560547 0.005181312561035156 0.007484912872314453\n",
      "200 0.1725609302520752 0.007093906402587891 0.013584136962890625\n",
      "300 0.16012001037597656 0.0051500797271728516 0.008650064468383789\n",
      "400 0.1601099967956543 0.005476951599121094 0.004880189895629883\n",
      "500 0.16064000129699707 0.005409955978393555 0.008172035217285156\n",
      "600 0.2146449089050293 0.005322933197021484 0.010656118392944336\n",
      "700 0.16657423973083496 0.006087779998779297 0.0052831172943115234\n",
      "800 0.166306734085083 0.004930019378662109 0.004060983657836914\n",
      "900 0.17404818534851074 0.008183956146240234 0.011759757995605469\n",
      "1000 0.16400384902954102 0.005239963531494141 0.0044040679931640625\n",
      "1100 0.16407132148742676 0.007854700088500977 0.0058040618896484375\n",
      "1200 0.15570807456970215 0.005745887756347656 0.005061149597167969\n",
      "1300 0.16600298881530762 0.006722211837768555 0.00662994384765625\n",
      "1400 0.16511201858520508 0.006493091583251953 0.00812983512878418\n",
      "1500 0.22792410850524902 0.006346940994262695 0.00627589225769043\n",
      "1600 0.16519403457641602 0.005414247512817383 0.006725788116455078\n",
      "1700 0.17558574676513672 0.005390167236328125 0.00609898567199707\n",
      "1800 0.17220091819763184 0.005520820617675781 0.009468317031860352\n",
      "1900 0.16498589515686035 0.0054628849029541016 0.004685163497924805\n",
      "2000 0.16474080085754395 0.008387088775634766 0.006062030792236328\n",
      "2100 0.18833184242248535 0.005201101303100586 0.0057849884033203125\n",
      "2200 0.16496014595031738 0.004995107650756836 0.00464177131652832\n",
      "2300 0.15826201438903809 0.006406307220458984 0.006527900695800781\n",
      "2400 0.1757519245147705 0.0070400238037109375 0.006398200988769531\n",
      "2500 0.17641901969909668 0.006300926208496094 0.010279178619384766\n",
      "2600 0.17369389533996582 0.006328105926513672 0.005493879318237305\n",
      "2700 0.17229294776916504 0.0063800811767578125 0.006771087646484375\n",
      "2800 0.17411398887634277 0.006261110305786133 0.008888721466064453\n",
      "2900 0.1674208641052246 0.005745887756347656 0.008491039276123047\n",
      "3000 0.17645001411437988 0.009596824645996094 0.0062961578369140625\n",
      "3100 0.15833020210266113 0.006018877029418945 0.004678010940551758\n",
      "3200 0.16445112228393555 0.005494594573974609 0.005773067474365234\n",
      "3300 0.1792750358581543 0.007258176803588867 0.008030891418457031\n",
      "3400 0.16768789291381836 0.006052970886230469 0.008973121643066406\n",
      "3500 0.15485215187072754 0.005204916000366211 0.0041811466217041016\n",
      "3600 0.16794395446777344 0.006006002426147461 0.0044591426849365234\n",
      "3700 0.1594529151916504 0.004817008972167969 0.00446319580078125\n",
      "3800 0.1563568115234375 0.0054280757904052734 0.00489497184753418\n",
      "3900 0.16119098663330078 0.005260944366455078 0.004079103469848633\n",
      "4000 0.16494488716125488 0.007703065872192383 0.004690885543823242\n",
      "4100 0.16150712966918945 0.005421161651611328 0.004742860794067383\n",
      "4200 0.16409993171691895 0.005876779556274414 0.004926204681396484\n",
      "4300 0.16916489601135254 0.00605320930480957 0.004812002182006836\n",
      "4400 0.16069579124450684 0.0049021244049072266 0.004626035690307617\n",
      "4500 0.17000603675842285 0.005300045013427734 0.005188703536987305\n",
      "4600 0.16349196434020996 0.005692005157470703 0.004844188690185547\n",
      "4700 0.16077780723571777 0.0059931278228759766 0.005143880844116211\n",
      "4800 0.1603531837463379 0.00593876838684082 0.008211374282836914\n",
      "4900 0.16997408866882324 0.005554914474487305 0.006641864776611328\n",
      "5000 0.15745091438293457 0.006884098052978516 0.00549006462097168\n",
      "5100 0.16767621040344238 0.00584101676940918 0.004830837249755859\n",
      "5200 0.16132140159606934 0.007611751556396484 0.006696939468383789\n",
      "5300 0.16103887557983398 0.0051631927490234375 0.005335807800292969\n",
      "5400 0.1555330753326416 0.005388021469116211 0.005293607711791992\n",
      "5500 0.17908191680908203 0.005529165267944336 0.004825115203857422\n",
      "5600 0.32516026496887207 0.005769014358520508 0.004815816879272461\n",
      "5700 0.172088623046875 0.005891084671020508 0.0064051151275634766\n",
      "5800 0.16865181922912598 0.0053822994232177734 0.0057108402252197266\n",
      "5900 0.1634540557861328 0.006124019622802734 0.0037229061126708984\n",
      "6000 0.18284296989440918 0.00722193717956543 0.0066301822662353516\n",
      "6100 0.1680760383605957 0.006485939025878906 0.0069119930267333984\n",
      "6200 0.17400288581848145 0.005800008773803711 0.004218101501464844\n",
      "6300 0.17815089225769043 0.005242109298706055 0.0050640106201171875\n",
      "6400 0.17021489143371582 0.008244991302490234 0.005427122116088867\n",
      "6500 0.16074800491333008 0.005448818206787109 0.004191160202026367\n",
      "6600 0.16786909103393555 0.005599021911621094 0.004801034927368164\n",
      "6700 0.1623518466949463 0.005677223205566406 0.00489497184753418\n",
      "6800 0.15778779983520508 0.005640983581542969 0.004870176315307617\n",
      "6900 0.15914106369018555 0.005339860916137695 0.0043582916259765625\n",
      "Process 0 running estimator on chunk 20000 - 20449\n",
      "\n",
      "\n",
      "\n",
      " Starting estimation...\n",
      "\n",
      "\n",
      "\n",
      "Process 0 estimating PZ PDF for rows 20,000 - 20,449\n",
      "0 0.016318321228027344 0.002553701400756836 0.011667013168334961\n",
      "100 0.013561010360717773 0.000453948974609375 0.013834953308105469\n",
      "200 0.012121915817260742 0.00046896934509277344 0.007336854934692383\n",
      "300 0.011737823486328125 0.0004222393035888672 0.007338047027587891\n"
     ]
    }
   ],
   "source": [
    "pz = DelightEstimator.make_stage(name='inform_Delight', hdf5_groupname='photometry')\n",
    "results = pz.estimate(test_data)"
   ]
  },
  {
   "cell_type": "code",
   "execution_count": 20,
   "metadata": {},
   "outputs": [],
   "source": [
    "#pz = DelightEstimator.make_stage(name='inform_Delight', hdf5_groupname='photometry',\n",
    "#                              model=pz_train.get_handle('model'))\n",
    "#results = pz.estimate(test_data)"
   ]
  },
  {
   "cell_type": "markdown",
   "metadata": {},
   "source": [
    "The output file is a `qp.Ensemble` containing the redshift PDFs.  This `Ensemble` also includes a photo-z point estimate derived from the PDFs, the mode by default (though there will soon be a keyword option to choose a different point estimation method or to skip the calculation of a point estimate).  The modes are stored in the \"ancillary\" data within the `Ensemble`.  By default it will be in an 1xM array, so you may need to include a `.flatten()` to flatten the array.  The zmode values in the ancillary data can be accessed via:"
   ]
  },
  {
   "cell_type": "code",
   "execution_count": 21,
   "metadata": {},
   "outputs": [],
   "source": [
    "zmode = results().ancil['zmode'].flatten()"
   ]
  },
  {
   "cell_type": "code",
   "execution_count": 30,
   "metadata": {},
   "outputs": [],
   "source": [
    "selected_flag =  zmode>=0"
   ]
  },
  {
   "cell_type": "code",
   "execution_count": 33,
   "metadata": {},
   "outputs": [
    {
     "data": {
      "text/plain": [
       "(array([ 9757.,     0.,     0.,     0.,     0.,     0.,     0.,     0.,\n",
       "            0., 10692.]),\n",
       " array([0. , 0.1, 0.2, 0.3, 0.4, 0.5, 0.6, 0.7, 0.8, 0.9, 1. ]),\n",
       " <BarContainer object of 10 artists>)"
      ]
     },
     "execution_count": 33,
     "metadata": {},
     "output_type": "execute_result"
    },
    {
     "data": {
      "image/png": "[encoded data removed]",
      "text/plain": [
       "<Figure size 640x480 with 1 Axes>"
      ]
     },
     "metadata": {},
     "output_type": "display_data"
    }
   ],
   "source": [
    "plt.hist(selected_flag.astype(int))"
   ]
  },
  {
   "cell_type": "code",
   "execution_count": 29,
   "metadata": {},
   "outputs": [
    {
     "data": {
      "text/plain": [
       "array([0.02304609, 0.02187623, 0.0441931 , ..., 3.0210144 , 2.98104019,\n",
       "       2.95916868])"
      ]
     },
     "execution_count": 29,
     "metadata": {},
     "output_type": "execute_result"
    }
   ],
   "source": [
    "test_data()['photometry']['redshift']"
   ]
  },
  {
   "cell_type": "markdown",
   "metadata": {},
   "source": [
    "Let's plot the redshift mode against the true redshifts to see how they look:"
   ]
  },
  {
   "cell_type": "code",
   "execution_count": 34,
   "metadata": {},
   "outputs": [
    {
     "data": {
      "text/plain": [
       "Text(0, 0.5, 'Delight photo-z')"
      ]
     },
     "execution_count": 34,
     "metadata": {},
     "output_type": "execute_result"
    },
    {
     "data": {
      "image/png": "[encoded data removed]",
      "text/plain": [
       "<Figure size 800x800 with 1 Axes>"
      ]
     },
     "metadata": {},
     "output_type": "display_data"
    }
   ],
   "source": [
    "plt.figure(figsize=(8,8))\n",
    "plt.scatter(test_data()['photometry']['redshift'][selected_flag],zmode[selected_flag],s=1,c='k',label='simple NN mode')\n",
    "plt.plot([0,3],[0,3],'r--');\n",
    "plt.xlabel(\"true redshift\")\n",
    "plt.ylabel(\"Delight photo-z\")"
   ]
  },
  {
   "cell_type": "markdown",
   "metadata": {},
   "source": [
    "Not bad, given our very simple estimator!  For the PDFs, `KNearNeigh` is storing each PDF as a Gaussian mixture model parameterization where each PDF is represented by a set of N Gaussians for each galaxy.  `qp.Ensemble` objects have all the methods of `scipy.stats.rv_continuous` objects so we can evaluate the PDF on a set of grid points with the built-in `.pdf` method.  Let's pick a single galaxy from our sample and evaluate and plot the PDF, the mode, and true redshift:"
   ]
  },
  {
   "cell_type": "code",
   "execution_count": 23,
   "metadata": {},
   "outputs": [],
   "source": [
    "zgrid = np.linspace(0, 3., 301)"
   ]
  },
  {
   "cell_type": "code",
   "execution_count": 25,
   "metadata": {},
   "outputs": [
    {
     "data": {
      "text/plain": [
       "Text(0, 0.5, 'p(z)')"
      ]
     },
     "execution_count": 25,
     "metadata": {},
     "output_type": "execute_result"
    },
    {
     "data": {
      "image/png": "[encoded data removed]",
      "text/plain": [
       "<Figure size 640x480 with 1 Axes>"
      ]
     },
     "metadata": {},
     "output_type": "display_data"
    }
   ],
   "source": [
    "galid = 9528\n",
    "single_gal = np.squeeze(results()[galid].pdf(zgrid))\n",
    "single_zmode = zmode[galid]\n",
    "truez = test_data()['photometry']['redshift'][galid]\n",
    "plt.plot(zgrid,single_gal,color='k',label='single pdf')\n",
    "plt.axvline(single_zmode,color='k', ls='--', label='mode')\n",
    "plt.axvline(truez,color='r',label='true redshift')\n",
    "plt.legend(loc='upper right')\n",
    "plt.xlabel(\"redshift\")\n",
    "plt.ylabel(\"p(z)\")"
   ]
  },
  {
   "cell_type": "markdown",
   "metadata": {},
   "source": [
    "We see that KNearNeigh PDFs do consist of a number of discrete Gaussians, and many have quite a bit of substructure.  This is a naive estimator, and some of these features are likely spurious."
   ]
  }
 ],
 "metadata": {
  "kernelspec": {
   "display_name": "py312_rail",
   "language": "python",
   "name": "py312_rail"
  },
  "language_info": {
   "codemirror_mode": {
    "name": "ipython",
    "version": 3
   },
   "file_extension": ".py",
   "mimetype": "text/x-python",
   "name": "python",
   "nbconvert_exporter": "python",
   "pygments_lexer": "ipython3",
   "version": "3.12.7"
  }
 },
 "nbformat": 4,
 "nbformat_minor": 4
}
